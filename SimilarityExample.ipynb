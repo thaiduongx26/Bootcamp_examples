{
 "cells": [
  {
   "cell_type": "code",
   "execution_count": 1,
   "metadata": {},
   "outputs": [],
   "source": [
    "import os\n",
    "from tqdm import tqdm\n",
    "from sklearn.metrics import classification_report\n",
    "from transformers import BertTokenizer, BertModel, BertConfig\n",
    "from torch.nn import CosineSimilarity\n",
    "from sklearn.feature_extraction.text import TfidfVectorizer\n",
    "import torch\n",
    "import gensim"
   ]
  },
  {
   "cell_type": "code",
   "execution_count": 2,
   "metadata": {},
   "outputs": [],
   "source": [
    "query = 'A man is eating a food.'\n",
    "corpus = ['A man is eating a piece of bread.',\n",
    "          'The girl is carrying a baby.',\n",
    "          'A man is riding a horse.',\n",
    "          'A woman is playing violin.',\n",
    "          'Two men pushed carts through the woods.',\n",
    "          'A man is riding a white horse on an enclosed ground.',\n",
    "          'A monkey is playing drums.',\n",
    "          'A cheetah is running behind its prey.'\n",
    "          ]"
   ]
  },
  {
   "cell_type": "markdown",
   "metadata": {},
   "source": [
    "### Tf-idf"
   ]
  },
  {
   "cell_type": "code",
   "execution_count": 75,
   "metadata": {},
   "outputs": [],
   "source": [
    "vect = TfidfVectorizer(ngram_range = (1,2), stop_words='english').fit(corpus)"
   ]
  },
  {
   "cell_type": "code",
   "execution_count": 76,
   "metadata": {},
   "outputs": [],
   "source": [
    "query_vec = vect.transform([query])\n",
    "corpus_vecs = vect.transform(corpus)"
   ]
  },
  {
   "cell_type": "code",
   "execution_count": 77,
   "metadata": {},
   "outputs": [],
   "source": [
    "query_vec = query_vec.toarray()\n",
    "corpus_vecs = corpus_vecs.toarray()"
   ]
  },
  {
   "cell_type": "code",
   "execution_count": 78,
   "metadata": {},
   "outputs": [],
   "source": [
    "cos = CosineSimilarity(dim=1, eps=1e-6)\n",
    "cos_results = cos(torch.tensor(query_vec), torch.tensor(corpus_vecs))"
   ]
  },
  {
   "cell_type": "code",
   "execution_count": 79,
   "metadata": {},
   "outputs": [
    {
     "data": {
      "text/plain": [
       "tensor([0.6219, 0.0000, 0.1728, 0.0000, 0.0000, 0.1061, 0.0000, 0.0000],\n",
       "       dtype=torch.float64)"
      ]
     },
     "execution_count": 79,
     "metadata": {},
     "output_type": "execute_result"
    }
   ],
   "source": [
    "cos_results"
   ]
  },
  {
   "cell_type": "code",
   "execution_count": 80,
   "metadata": {},
   "outputs": [],
   "source": [
    "corpus_sorted = [(x, float(y)) for y,x in sorted(zip(cos_results ,corpus), reverse = True)]"
   ]
  },
  {
   "cell_type": "code",
   "execution_count": 81,
   "metadata": {},
   "outputs": [
    {
     "name": "stdout",
     "output_type": "stream",
     "text": [
      "Text query:  A man is eating a food.\n",
      "Similarity (sorted): \n",
      "\tA man is eating a piece of bread.: \t0.6219211594482079\n",
      "\tA man is riding a horse.: \t0.17281739569158833\n",
      "\tA man is riding a white horse on an enclosed ground.: \t0.10610419209008183\n",
      "\tTwo men pushed carts through the woods.: \t0.0\n",
      "\tThe girl is carrying a baby.: \t0.0\n",
      "\tA woman is playing violin.: \t0.0\n",
      "\tA monkey is playing drums.: \t0.0\n",
      "\tA cheetah is running behind its prey.: \t0.0\n"
     ]
    }
   ],
   "source": [
    "print('Text query: ', query)\n",
    "print('Similarity (sorted): ')\n",
    "for x, y in corpus_sorted:\n",
    "    print('\\t{}: \\t{}'.format(x, y))"
   ]
  },
  {
   "cell_type": "markdown",
   "metadata": {},
   "source": [
    "### Word2vec"
   ]
  },
  {
   "cell_type": "markdown",
   "metadata": {},
   "source": [
    "###### Download pretrained english: https://drive.google.com/uc?id=0B7XkCwpI5KDYNlNUTTlSS21pQmM&export=download"
   ]
  },
  {
   "cell_type": "code",
   "execution_count": 3,
   "metadata": {},
   "outputs": [],
   "source": [
    "import gensim\n",
    "model = gensim.models.KeyedVectors.load_word2vec_format('GoogleNews-vectors-negative300.bin', binary=True)"
   ]
  },
  {
   "cell_type": "code",
   "execution_count": 12,
   "metadata": {},
   "outputs": [],
   "source": [
    "query_tokenized = list(gensim.utils.tokenize(query, lowercase=True))"
   ]
  },
  {
   "cell_type": "code",
   "execution_count": 9,
   "metadata": {},
   "outputs": [],
   "source": [
    "corpus_tokenized = [list(gensim.utils.tokenize(text, lowercase=True)) for text in corpus]"
   ]
  },
  {
   "cell_type": "code",
   "execution_count": 13,
   "metadata": {},
   "outputs": [
    {
     "data": {
      "text/plain": [
       "['a', 'man', 'is', 'eating', 'a', 'food']"
      ]
     },
     "execution_count": 13,
     "metadata": {},
     "output_type": "execute_result"
    }
   ],
   "source": [
    "query_tokenized"
   ]
  },
  {
   "cell_type": "code",
   "execution_count": 11,
   "metadata": {},
   "outputs": [
    {
     "data": {
      "text/plain": [
       "[['a', 'man', 'is', 'eating', 'a', 'piece', 'of', 'bread'],\n",
       " ['the', 'girl', 'is', 'carrying', 'a', 'baby'],\n",
       " ['a', 'man', 'is', 'riding', 'a', 'horse'],\n",
       " ['a', 'woman', 'is', 'playing', 'violin'],\n",
       " ['two', 'men', 'pushed', 'carts', 'through', 'the', 'woods'],\n",
       " ['a',\n",
       "  'man',\n",
       "  'is',\n",
       "  'riding',\n",
       "  'a',\n",
       "  'white',\n",
       "  'horse',\n",
       "  'on',\n",
       "  'an',\n",
       "  'enclosed',\n",
       "  'ground'],\n",
       " ['a', 'monkey', 'is', 'playing', 'drums'],\n",
       " ['a', 'cheetah', 'is', 'running', 'behind', 'its', 'prey']]"
      ]
     },
     "execution_count": 11,
     "metadata": {},
     "output_type": "execute_result"
    }
   ],
   "source": [
    "corpus_tokenized"
   ]
  },
  {
   "cell_type": "code",
   "execution_count": 24,
   "metadata": {},
   "outputs": [
    {
     "name": "stdout",
     "output_type": "stream",
     "text": [
      "['riding', 'men', 'of', 'bread', 'ground', 'behind', 'man', 'carrying', 'horse', 'playing', 'piece', 'drums', 'its', 'pushed', 'white', 'on', 'running', 'two', 'prey', 'woman', 'monkey', 'enclosed', 'is', 'an', 'the', 'cheetah', 'baby', 'eating', 'a', 'violin', 'woods', 'carts', 'food', 'girl', 'through']\n"
     ]
    }
   ],
   "source": [
    "vocab = query_tokenized\n",
    "for t in corpus_tokenized:\n",
    "    vocab += t\n",
    "vocab = list(set(vocab))\n",
    "print(vocab)"
   ]
  },
  {
   "cell_type": "markdown",
   "metadata": {},
   "source": [
    "##### Out of vocab cases:"
   ]
  },
  {
   "cell_type": "code",
   "execution_count": 26,
   "metadata": {},
   "outputs": [
    {
     "name": "stdout",
     "output_type": "stream",
     "text": [
      "of\n",
      "a\n"
     ]
    }
   ],
   "source": [
    "for word in vocab:\n",
    "    if word not in model:\n",
    "        print(word)"
   ]
  },
  {
   "cell_type": "code",
   "execution_count": 68,
   "metadata": {},
   "outputs": [],
   "source": [
    "import copy\n",
    "def get_sent_vect(tokens, model):\n",
    "    vect = []\n",
    "    for t in tokens:\n",
    "        if t in model:\n",
    "            if len(vect) == 0:\n",
    "                vect = copy.deepcopy(model[t])\n",
    "            else:\n",
    "                vect += copy.deepcopy(model[t])\n",
    "#     vect = vect / len(vect)\n",
    "    return vect"
   ]
  },
  {
   "cell_type": "code",
   "execution_count": 69,
   "metadata": {},
   "outputs": [],
   "source": [
    "query_vect = get_sent_vect(query_tokenized, model)"
   ]
  },
  {
   "cell_type": "code",
   "execution_count": 70,
   "metadata": {},
   "outputs": [],
   "source": [
    "corpus_vect = [get_sent_vect(tokens, model) for tokens in corpus_tokenized]"
   ]
  },
  {
   "cell_type": "code",
   "execution_count": 71,
   "metadata": {},
   "outputs": [],
   "source": [
    "cos = CosineSimilarity(dim=1, eps=1e-6)\n",
    "cos_results = cos(torch.tensor([query_vect]), torch.tensor(corpus_vect))"
   ]
  },
  {
   "cell_type": "code",
   "execution_count": 72,
   "metadata": {},
   "outputs": [
    {
     "data": {
      "text/plain": [
       "tensor([0.7300, 0.7581, 0.8013, 0.7095, 0.6489, 0.8533, 0.6782, 0.6619])"
      ]
     },
     "execution_count": 72,
     "metadata": {},
     "output_type": "execute_result"
    }
   ],
   "source": [
    "cos_results"
   ]
  },
  {
   "cell_type": "code",
   "execution_count": 73,
   "metadata": {},
   "outputs": [],
   "source": [
    "corpus_sorted = [(x, float(y)) for y,x in sorted(zip(cos_results ,corpus), reverse = True)]"
   ]
  },
  {
   "cell_type": "code",
   "execution_count": 74,
   "metadata": {},
   "outputs": [
    {
     "name": "stdout",
     "output_type": "stream",
     "text": [
      "Text query:  A man is eating a food.\n",
      "Similarity (sorted): \n",
      "\tA man is riding a white horse on an enclosed ground.: \t0.8532745242118835\n",
      "\tA man is riding a horse.: \t0.8012802004814148\n",
      "\tThe girl is carrying a baby.: \t0.7581433653831482\n",
      "\tA man is eating a piece of bread.: \t0.7300212383270264\n",
      "\tA woman is playing violin.: \t0.709453821182251\n",
      "\tA monkey is playing drums.: \t0.678205668926239\n",
      "\tA cheetah is running behind its prey.: \t0.6619023084640503\n",
      "\tTwo men pushed carts through the woods.: \t0.6489415764808655\n"
     ]
    }
   ],
   "source": [
    "print('Text query: ', query)\n",
    "print('Similarity (sorted): ')\n",
    "for x, y in corpus_sorted:\n",
    "    print('\\t{}: \\t{}'.format(x, y))"
   ]
  },
  {
   "cell_type": "code",
   "execution_count": null,
   "metadata": {},
   "outputs": [],
   "source": []
  },
  {
   "cell_type": "code",
   "execution_count": null,
   "metadata": {},
   "outputs": [],
   "source": []
  },
  {
   "cell_type": "markdown",
   "metadata": {},
   "source": [
    "### BERT"
   ]
  },
  {
   "cell_type": "code",
   "execution_count": 7,
   "metadata": {},
   "outputs": [],
   "source": [
    "tokenizer = BertTokenizer.from_pretrained('bert-base-uncased')\n",
    "model = BertModel.from_pretrained('bert-base-uncased')"
   ]
  },
  {
   "cell_type": "code",
   "execution_count": 8,
   "metadata": {},
   "outputs": [],
   "source": [
    "query_tokenized_ids = tokenizer.encode(query, return_tensors='pt')\n",
    "inputs = tokenizer.batch_encode_plus(corpus, pad_to_max_length=True, return_tensors='pt')['input_ids']"
   ]
  },
  {
   "cell_type": "code",
   "execution_count": 12,
   "metadata": {},
   "outputs": [
    {
     "data": {
      "text/plain": [
       "['[CLS]', 'a', 'man', 'is', 'eating', 'a', 'food', '.', '[SEP]']"
      ]
     },
     "execution_count": 12,
     "metadata": {},
     "output_type": "execute_result"
    }
   ],
   "source": [
    "tokenizer.convert_ids_to_tokens(query_tokenized_ids[0])"
   ]
  },
  {
   "cell_type": "code",
   "execution_count": 13,
   "metadata": {},
   "outputs": [],
   "source": [
    "last_hidden_states, output_pooled = model(inputs)\n",
    "query_last_hidden_states, query_pooled = model(query_tokenized_ids)"
   ]
  },
  {
   "cell_type": "code",
   "execution_count": 14,
   "metadata": {},
   "outputs": [
    {
     "data": {
      "text/plain": [
       "torch.Size([8, 768])"
      ]
     },
     "execution_count": 14,
     "metadata": {},
     "output_type": "execute_result"
    }
   ],
   "source": [
    "output_pooled.shape"
   ]
  },
  {
   "cell_type": "code",
   "execution_count": 15,
   "metadata": {},
   "outputs": [],
   "source": [
    "sent_query_cls = query_last_hidden_states[:, 0, :]\n",
    "sents_corpus_cls = last_hidden_states[:, 0, :]"
   ]
  },
  {
   "cell_type": "code",
   "execution_count": 16,
   "metadata": {},
   "outputs": [
    {
     "data": {
      "text/plain": [
       "torch.Size([1, 768])"
      ]
     },
     "execution_count": 16,
     "metadata": {},
     "output_type": "execute_result"
    }
   ],
   "source": [
    "sent_query_cls.shape"
   ]
  },
  {
   "cell_type": "code",
   "execution_count": 17,
   "metadata": {},
   "outputs": [
    {
     "data": {
      "text/plain": [
       "torch.Size([8, 768])"
      ]
     },
     "execution_count": 17,
     "metadata": {},
     "output_type": "execute_result"
    }
   ],
   "source": [
    "sents_corpus_cls.shape"
   ]
  },
  {
   "cell_type": "code",
   "execution_count": 18,
   "metadata": {},
   "outputs": [],
   "source": [
    "cos = CosineSimilarity(dim=1, eps=1e-6)\n",
    "cos_results = cos(sent_query_cls, sents_corpus_cls)"
   ]
  },
  {
   "cell_type": "code",
   "execution_count": 19,
   "metadata": {},
   "outputs": [
    {
     "data": {
      "text/plain": [
       "tensor([0.8860, 0.7309, 0.7749, 0.7390, 0.7404, 0.8676, 0.7890, 0.8669],\n",
       "       grad_fn=<DivBackward0>)"
      ]
     },
     "execution_count": 19,
     "metadata": {},
     "output_type": "execute_result"
    }
   ],
   "source": [
    "cos_results"
   ]
  },
  {
   "cell_type": "code",
   "execution_count": 20,
   "metadata": {},
   "outputs": [],
   "source": [
    "corpus_sorted = [(x, float(y)) for y,x in sorted(zip(cos_results ,corpus), reverse = True)]"
   ]
  },
  {
   "cell_type": "code",
   "execution_count": 21,
   "metadata": {},
   "outputs": [
    {
     "name": "stdout",
     "output_type": "stream",
     "text": [
      "Text query:  A man is eating a food.\n",
      "Similarity (sorted): \n",
      "\tA man is eating a piece of bread.: \t0.8859956860542297\n",
      "\tA man is riding a white horse on an enclosed ground.: \t0.8675525188446045\n",
      "\tA cheetah is running behind its prey.: \t0.8668953776359558\n",
      "\tA monkey is playing drums.: \t0.7889615297317505\n",
      "\tA man is riding a horse.: \t0.7749326229095459\n",
      "\tTwo men pushed carts through the woods.: \t0.7404251098632812\n",
      "\tA woman is playing violin.: \t0.7390106320381165\n",
      "\tThe girl is carrying a baby.: \t0.7309496402740479\n"
     ]
    }
   ],
   "source": [
    "print('Text query: ', query)\n",
    "print('Similarity (sorted): ')\n",
    "for x, y in corpus_sorted:\n",
    "    print('\\t{}: \\t{}'.format(x, y))"
   ]
  },
  {
   "cell_type": "code",
   "execution_count": null,
   "metadata": {},
   "outputs": [],
   "source": []
  }
 ],
 "metadata": {
  "kernelspec": {
   "display_name": "Python 3",
   "language": "python",
   "name": "python3"
  },
  "language_info": {
   "codemirror_mode": {
    "name": "ipython",
    "version": 3
   },
   "file_extension": ".py",
   "mimetype": "text/x-python",
   "name": "python",
   "nbconvert_exporter": "python",
   "pygments_lexer": "ipython3",
   "version": "3.6.10"
  }
 },
 "nbformat": 4,
 "nbformat_minor": 4
}
