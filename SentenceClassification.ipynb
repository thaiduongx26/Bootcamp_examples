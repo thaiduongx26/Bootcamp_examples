{
 "cells": [
  {
   "cell_type": "code",
   "execution_count": 1,
   "metadata": {},
   "outputs": [],
   "source": [
    "import pandas as pd\n",
    "from sklearn.model_selection import train_test_split\n",
    "from sklearn import preprocessing\n",
    "from sklearn.svm import SVC\n",
    "from sklearn.feature_extraction.text import TfidfVectorizer\n",
    "from sklearn.metrics import accuracy_score\n",
    "import pickle\n",
    "import os\n",
    "from tqdm import tqdm\n",
    "from sklearn.metrics import classification_report\n",
    "from transformers import BertTokenizer, BertModel, BertConfig\n",
    "from transformers import AdamW\n",
    "import torch\n",
    "import torch.nn as nn\n",
    "from torch.utils.data import Dataset\n",
    "from torch.utils.data.dataloader import DataLoader\n",
    "from transformers.activations import get_activation\n",
    "import numpy as np"
   ]
  },
  {
   "cell_type": "markdown",
   "metadata": {},
   "source": [
    "## Load data"
   ]
  },
  {
   "cell_type": "code",
   "execution_count": 2,
   "metadata": {},
   "outputs": [],
   "source": [
    "data_df = pd.read_csv('data/Question_Classification_Dataset.csv')"
   ]
  },
  {
   "cell_type": "code",
   "execution_count": 3,
   "metadata": {},
   "outputs": [
    {
     "data": {
      "text/html": [
       "<div>\n",
       "<style scoped>\n",
       "    .dataframe tbody tr th:only-of-type {\n",
       "        vertical-align: middle;\n",
       "    }\n",
       "\n",
       "    .dataframe tbody tr th {\n",
       "        vertical-align: top;\n",
       "    }\n",
       "\n",
       "    .dataframe thead th {\n",
       "        text-align: right;\n",
       "    }\n",
       "</style>\n",
       "<table border=\"1\" class=\"dataframe\">\n",
       "  <thead>\n",
       "    <tr style=\"text-align: right;\">\n",
       "      <th></th>\n",
       "      <th>Unnamed: 0</th>\n",
       "      <th>Questions</th>\n",
       "      <th>Category0</th>\n",
       "      <th>Category1</th>\n",
       "      <th>Category2</th>\n",
       "    </tr>\n",
       "  </thead>\n",
       "  <tbody>\n",
       "    <tr>\n",
       "      <th>0</th>\n",
       "      <td>0</td>\n",
       "      <td>How did serfdom develop in and then leave Russ...</td>\n",
       "      <td>DESCRIPTION</td>\n",
       "      <td>DESC</td>\n",
       "      <td>manner</td>\n",
       "    </tr>\n",
       "    <tr>\n",
       "      <th>1</th>\n",
       "      <td>1</td>\n",
       "      <td>What films featured the character Popeye Doyle ?</td>\n",
       "      <td>ENTITY</td>\n",
       "      <td>ENTY</td>\n",
       "      <td>cremat</td>\n",
       "    </tr>\n",
       "    <tr>\n",
       "      <th>2</th>\n",
       "      <td>2</td>\n",
       "      <td>How can I find a list of celebrities ' real na...</td>\n",
       "      <td>DESCRIPTION</td>\n",
       "      <td>DESC</td>\n",
       "      <td>manner</td>\n",
       "    </tr>\n",
       "    <tr>\n",
       "      <th>3</th>\n",
       "      <td>3</td>\n",
       "      <td>What fowl grabs the spotlight after the Chines...</td>\n",
       "      <td>ENTITY</td>\n",
       "      <td>ENTY</td>\n",
       "      <td>animal</td>\n",
       "    </tr>\n",
       "    <tr>\n",
       "      <th>4</th>\n",
       "      <td>4</td>\n",
       "      <td>What is the full form of .com ?</td>\n",
       "      <td>ABBREVIATION</td>\n",
       "      <td>ABBR</td>\n",
       "      <td>exp</td>\n",
       "    </tr>\n",
       "  </tbody>\n",
       "</table>\n",
       "</div>"
      ],
      "text/plain": [
       "   Unnamed: 0                                          Questions  \\\n",
       "0           0  How did serfdom develop in and then leave Russ...   \n",
       "1           1   What films featured the character Popeye Doyle ?   \n",
       "2           2  How can I find a list of celebrities ' real na...   \n",
       "3           3  What fowl grabs the spotlight after the Chines...   \n",
       "4           4                    What is the full form of .com ?   \n",
       "\n",
       "      Category0 Category1 Category2  \n",
       "0   DESCRIPTION      DESC    manner  \n",
       "1        ENTITY      ENTY    cremat  \n",
       "2   DESCRIPTION      DESC    manner  \n",
       "3        ENTITY      ENTY    animal  \n",
       "4  ABBREVIATION      ABBR       exp  "
      ]
     },
     "execution_count": 3,
     "metadata": {},
     "output_type": "execute_result"
    }
   ],
   "source": [
    "data_df.head()"
   ]
  },
  {
   "cell_type": "code",
   "execution_count": 4,
   "metadata": {},
   "outputs": [],
   "source": [
    "le = preprocessing.LabelEncoder()\n",
    "data_texts = data_df['Questions'].to_list()\n",
    "labels = le.fit_transform(data_df['Category0'])"
   ]
  },
  {
   "cell_type": "code",
   "execution_count": 5,
   "metadata": {},
   "outputs": [],
   "source": [
    "X_train, X_test, y_train, y_test = train_test_split(data_texts, labels, test_size=0.2, random_state=0)"
   ]
  },
  {
   "cell_type": "markdown",
   "metadata": {},
   "source": [
    "## Vectorization"
   ]
  },
  {
   "cell_type": "code",
   "execution_count": 13,
   "metadata": {},
   "outputs": [],
   "source": [
    "vect = TfidfVectorizer(ngram_range = (1,2)).fit(X_train)"
   ]
  },
  {
   "cell_type": "code",
   "execution_count": 14,
   "metadata": {},
   "outputs": [
    {
     "data": {
      "text/plain": [
       "27560"
      ]
     },
     "execution_count": 14,
     "metadata": {},
     "output_type": "execute_result"
    }
   ],
   "source": [
    "len(vect.vocabulary_)"
   ]
  },
  {
   "cell_type": "code",
   "execution_count": 15,
   "metadata": {},
   "outputs": [],
   "source": [
    "train_vector = vect.transform(X_train)\n",
    "test_vector = vect.transform(X_test)"
   ]
  },
  {
   "cell_type": "markdown",
   "metadata": {},
   "source": [
    "## SVM"
   ]
  },
  {
   "cell_type": "code",
   "execution_count": 16,
   "metadata": {},
   "outputs": [
    {
     "data": {
      "text/plain": [
       "SVC(C=1.0, break_ties=False, cache_size=200, class_weight=None, coef0=0.0,\n",
       "    decision_function_shape='ovr', degree=3, gamma='scale', kernel='linear',\n",
       "    max_iter=-1, probability=True, random_state=None, shrinking=True, tol=0.001,\n",
       "    verbose=False)"
      ]
     },
     "execution_count": 16,
     "metadata": {},
     "output_type": "execute_result"
    }
   ],
   "source": [
    "model1 = SVC(kernel='linear', probability = True)\n",
    "model1.fit(train_vector, y_train)"
   ]
  },
  {
   "cell_type": "code",
   "execution_count": 17,
   "metadata": {},
   "outputs": [],
   "source": [
    "pred = model1.predict(test_vector)"
   ]
  },
  {
   "cell_type": "code",
   "execution_count": 20,
   "metadata": {},
   "outputs": [
    {
     "name": "stdout",
     "output_type": "stream",
     "text": [
      "              precision    recall  f1-score   support\n",
      "\n",
      "           0       0.62      0.94      0.75        16\n",
      "           1       0.90      0.80      0.85       257\n",
      "           2       0.81      0.73      0.77       278\n",
      "           3       0.85      0.90      0.87       220\n",
      "           4       0.82      0.93      0.87       154\n",
      "           5       0.90      0.97      0.94       166\n",
      "\n",
      "    accuracy                           0.85      1091\n",
      "   macro avg       0.82      0.88      0.84      1091\n",
      "weighted avg       0.85      0.85      0.85      1091\n",
      "\n"
     ]
    }
   ],
   "source": [
    "print(classification_report(pred, y_test))"
   ]
  },
  {
   "cell_type": "markdown",
   "metadata": {},
   "source": [
    "# BERT"
   ]
  },
  {
   "cell_type": "markdown",
   "metadata": {},
   "source": [
    "### Build dataloader"
   ]
  },
  {
   "cell_type": "code",
   "execution_count": 6,
   "metadata": {},
   "outputs": [],
   "source": [
    "class QuestionDataset(DataLoader):\n",
    "    def __init__(self, data, labels, max_length, tokenizer):\n",
    "        self.data = data\n",
    "        self.max_length = max_length\n",
    "        self.tokenizer = tokenizer\n",
    "        self.labels = labels\n",
    "\n",
    "    def __len__(self):\n",
    "        return len(self.data)\n",
    "\n",
    "    def __getitem__(self, idx):\n",
    "        text = self.data[idx]\n",
    "        encoding = self.tokenizer.encode_plus(\n",
    "          text,\n",
    "          add_special_tokens=True,\n",
    "          max_length=self.max_length,\n",
    "          return_token_type_ids=False,\n",
    "          pad_to_max_length=True,\n",
    "          return_attention_mask=True,\n",
    "          return_tensors='pt',\n",
    "        )\n",
    "        text_tokenized = encoding['input_ids'].flatten()\n",
    "        attention_mask = encoding['attention_mask'].flatten()\n",
    "        label = self.labels[idx]\n",
    "        \n",
    "        return torch.tensor(text_tokenized), torch.tensor(attention_mask), torch.tensor(label)"
   ]
  },
  {
   "cell_type": "code",
   "execution_count": 7,
   "metadata": {},
   "outputs": [],
   "source": [
    "def create_dataloader(texts, labels, pretrained_model_name=None, max_length=64, batch_size=4, shuffle=True, num_workers=0):\n",
    "    tokenizer = BertTokenizer.from_pretrained(pretrained_model_name)\n",
    "    dataset = QuestionDataset(texts, labels, max_length=max_length, tokenizer=tokenizer)\n",
    "    return DataLoader(dataset, batch_size=batch_size, shuffle=shuffle, num_workers=num_workers, pin_memory=False)"
   ]
  },
  {
   "cell_type": "code",
   "execution_count": 8,
   "metadata": {},
   "outputs": [],
   "source": [
    "MODEL_NAME = 'bert-base-uncased'\n",
    "\n",
    "train_loader = create_dataloader(X_train, y_train, pretrained_model_name=MODEL_NAME)\n",
    "test_loader = create_dataloader(X_test, y_test, pretrained_model_name=MODEL_NAME)"
   ]
  },
  {
   "cell_type": "markdown",
   "metadata": {},
   "source": [
    "### Build Model"
   ]
  },
  {
   "cell_type": "code",
   "execution_count": 9,
   "metadata": {},
   "outputs": [],
   "source": [
    "class QuestionClassifier(nn.Module):\n",
    "    def __init__(self, n_classes, pretrained_model_name='bert-base-uncased'):\n",
    "        super(QuestionClassifier, self).__init__()\n",
    "        self.bert = BertModel.from_pretrained(pretrained_model_name)\n",
    "#         for name, param in self.bert.named_parameters():\n",
    "#             if 'encoder' in name:\n",
    "#                 param.requires_grad = False\n",
    "        self.dense = nn.Linear(self.bert.config.hidden_size, self.bert.config.hidden_size)\n",
    "        self.dropout = nn.Dropout(0.1)\n",
    "        self.out_proj = nn.Linear(self.bert.config.hidden_size, n_classes)\n",
    "        \n",
    "    def forward(self, input_ids, attention_mask):\n",
    "        hidden_states, pooled_output = self.bert(\n",
    "          input_ids=input_ids,\n",
    "          attention_mask=attention_mask\n",
    "        )\n",
    "#         sequence_output_cls = hidden_states[:, 0, :]\n",
    "        x = self.dropout(pooled_output)\n",
    "        x = self.dense(x)\n",
    "        x = get_activation(\"tanh\")(x)\n",
    "        x = self.dropout(x)\n",
    "        x = self.out_proj(x)\n",
    "        return x"
   ]
  },
  {
   "cell_type": "markdown",
   "metadata": {},
   "source": [
    "### Training"
   ]
  },
  {
   "cell_type": "code",
   "execution_count": 10,
   "metadata": {},
   "outputs": [],
   "source": [
    "def evaluate(net, test_loader):\n",
    "    net.eval()\n",
    "    cuda = torch.cuda.is_available()\n",
    "    labels = []\n",
    "    preds = []\n",
    "\n",
    "    for i, batch in tqdm(enumerate(test_loader)):\n",
    "        x, attention_masks, label = batch\n",
    "        label = label.data\n",
    "        labels.append(label)\n",
    "        if cuda:\n",
    "            x = x.cuda()\n",
    "            attention_masks = attention_masks.cuda()\n",
    "\n",
    "        prediction = net(x, attention_masks)\n",
    "        \n",
    "        prediction.to('cpu')\n",
    "        pred_label = prediction.argmax(dim=1).to('cpu')\n",
    "        \n",
    "        preds.append(pred_label)\n",
    "    \n",
    "    all_labels = []\n",
    "    all_preds = []\n",
    "    for i in range(len(labels)):\n",
    "        all_labels += labels[i].tolist()\n",
    "        all_preds += preds[i].tolist()\n",
    "    \n",
    "    print(\"Testing report: \", classification_report(all_labels, all_preds))"
   ]
  },
  {
   "cell_type": "code",
   "execution_count": 11,
   "metadata": {},
   "outputs": [],
   "source": [
    "def train(num_epochs=100):\n",
    "    cuda = torch.cuda.is_available()\n",
    "    train_loader = create_dataloader(X_train, y_train, pretrained_model_name=MODEL_NAME)\n",
    "    test_loader = create_dataloader(X_test, y_test, pretrained_model_name=MODEL_NAME)\n",
    "    net = QuestionClassifier(n_classes=len(set(y_train)), pretrained_model_name=MODEL_NAME)\n",
    "    if cuda:\n",
    "        net.cuda()\n",
    "    def train_model(model, optimizer=None, loss_fn=None, scheduler=None, do_eval=False):\n",
    "        model.train()\n",
    "        epoch_loss = []\n",
    "        all_labels = []\n",
    "        all_preds = []\n",
    "        for i, batch in tqdm(enumerate(train_loader)):\n",
    "            x, attention_masks, labels = batch\n",
    "            labels = labels.long()\n",
    "            if cuda:\n",
    "                x = x.cuda()\n",
    "                labels = labels.cuda()\n",
    "                attention_masks = attention_masks.cuda()\n",
    "\n",
    "            prediction = model(x, attention_masks)\n",
    "            loss = loss_fn(prediction, labels.view(-1))\n",
    "            pred = prediction.argmax(dim=-1)\n",
    "            all_labels.append(labels.data.to('cpu'))\n",
    "            all_preds.append(pred.to('cpu'))\n",
    "            \n",
    "            epoch_loss.append(loss.item())\n",
    "\n",
    "            loss.backward()\n",
    "            optimizer.step()\n",
    "            optimizer.zero_grad()\n",
    "        average_loss = np.mean(epoch_loss)\n",
    "        new_all_labels = []\n",
    "        new_all_preds = []\n",
    "        for i in range(len(all_labels)):\n",
    "            new_all_labels += all_labels[i].tolist()\n",
    "            new_all_preds += all_preds[i].tolist()\n",
    "\n",
    "        print(\"average RE loss : \", average_loss)\n",
    "        print(\"train_cls report: \\n\", classification_report(new_all_labels, new_all_preds))\n",
    "        if do_eval:\n",
    "            evaluate(model, test_loader)\n",
    "            \n",
    "    criteria = torch.nn.CrossEntropyLoss().cuda()\n",
    "#     no_decay = [\"bias\", \"LayerNorm.weight\"]\n",
    "#     optimizer_grouped_parameters = [\n",
    "#         {\n",
    "#             \"params\": [p for n, p in net.named_parameters() if not any(nd in n for nd in no_decay)],\n",
    "#             \"weight_decay\": 0.0,\n",
    "#         },\n",
    "#         {\n",
    "#             \"params\": [p for n, p in net.named_parameters() if any(nd in n for nd in no_decay)],\n",
    "#             \"weight_decay\": 0.0,\n",
    "#         },\n",
    "#     ]\n",
    "    optimizer = torch.optim.Adam([{\"params\": net.parameters(), \"lr\": 0.0001}])\n",
    "    for epoch in range(num_epochs):\n",
    "        print('Epoch:', epoch)\n",
    "        do_eval = False\n",
    "        if epoch % 5 == 0 or epoch == num_epochs - 1:\n",
    "            do_eval = True\n",
    "        train_model(net, optimizer=optimizer, loss_fn=criteria, scheduler=None, do_eval=do_eval)"
   ]
  },
  {
   "cell_type": "code",
   "execution_count": null,
   "metadata": {
    "scrolled": true
   },
   "outputs": [],
   "source": [
    "train(num_epochs=10)"
   ]
  },
  {
   "cell_type": "code",
   "execution_count": 13,
   "metadata": {},
   "outputs": [
    {
     "data": {
      "text/plain": [
       "Counter({4: 660, 5: 718, 3: 988, 1: 935, 2: 998, 0: 62})"
      ]
     },
     "execution_count": 13,
     "metadata": {},
     "output_type": "execute_result"
    }
   ],
   "source": [
    "import collections\n",
    "collections.Counter(y_train)"
   ]
  },
  {
   "cell_type": "code",
   "execution_count": null,
   "metadata": {},
   "outputs": [],
   "source": []
  },
  {
   "cell_type": "code",
   "execution_count": null,
   "metadata": {},
   "outputs": [],
   "source": []
  },
  {
   "cell_type": "code",
   "execution_count": null,
   "metadata": {},
   "outputs": [],
   "source": []
  }
 ],
 "metadata": {
  "kernelspec": {
   "display_name": "Python 3",
   "language": "python",
   "name": "python3"
  },
  "language_info": {
   "codemirror_mode": {
    "name": "ipython",
    "version": 3
   },
   "file_extension": ".py",
   "mimetype": "text/x-python",
   "name": "python",
   "nbconvert_exporter": "python",
   "pygments_lexer": "ipython3",
   "version": "3.7.7"
  }
 },
 "nbformat": 4,
 "nbformat_minor": 4
}
